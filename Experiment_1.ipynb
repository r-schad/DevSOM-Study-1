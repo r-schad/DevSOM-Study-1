'''
Experiment 1: Train a 24x24 SOFM on MNIST-b1 for 3m epochs.
'''
