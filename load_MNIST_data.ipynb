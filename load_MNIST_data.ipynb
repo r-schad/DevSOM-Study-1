{
  "nbformat": 4,
  "nbformat_minor": 0,
  "metadata": {
    "colab": {
      "name": "load_MNIST_data.ipynb",
      "provenance": [],
      "authorship_tag": "ABX9TyPNM8y8iYvqHRwrelZ5SD8S",
      "include_colab_link": true
    },
    "kernelspec": {
      "name": "python3",
      "display_name": "Python 3"
    },
    "language_info": {
      "name": "python"
    }
  },
  "cells": [
    {
      "cell_type": "markdown",
      "metadata": {
        "id": "view-in-github",
        "colab_type": "text"
      },
      "source": [
        "<a href=\"https://colab.research.google.com/github/r-schad/DevSOM-Study-1/blob/main/load_MNIST_data.ipynb\" target=\"_parent\"><img src=\"https://colab.research.google.com/assets/colab-badge.svg\" alt=\"Open In Colab\"/></a>"
      ]
    },
    {
      "cell_type": "code",
      "source": [
        "!pip install idx2numpy"
      ],
      "metadata": {
        "colab": {
          "base_uri": "https://localhost:8080/"
        },
        "id": "qWZ-jEy5GXKR",
        "outputId": "72f39834-3022-4f2a-cc1f-c97aafe89f0f"
      },
      "execution_count": 2,
      "outputs": [
        {
          "output_type": "stream",
          "name": "stdout",
          "text": [
            "Looking in indexes: https://pypi.org/simple, https://us-python.pkg.dev/colab-wheels/public/simple/\n",
            "Collecting idx2numpy\n",
            "  Downloading idx2numpy-1.2.3.tar.gz (6.8 kB)\n",
            "Requirement already satisfied: numpy in /usr/local/lib/python3.7/dist-packages (from idx2numpy) (1.21.6)\n",
            "Requirement already satisfied: six in /usr/local/lib/python3.7/dist-packages (from idx2numpy) (1.15.0)\n",
            "Building wheels for collected packages: idx2numpy\n",
            "  Building wheel for idx2numpy (setup.py) ... \u001b[?25l\u001b[?25hdone\n",
            "  Created wheel for idx2numpy: filename=idx2numpy-1.2.3-py3-none-any.whl size=7917 sha256=b8a7837bd8ee580aefcd0f7d7b781e3a5c58db1876232603c0ae6fd4b63b2368\n",
            "  Stored in directory: /root/.cache/pip/wheels/1a/ce/ad/d5e95a35cfe34149aade5e500f2edd535c0566d79e9a8e1d8a\n",
            "Successfully built idx2numpy\n",
            "Installing collected packages: idx2numpy\n",
            "Successfully installed idx2numpy-1.2.3\n"
          ]
        }
      ]
    },
    {
      "cell_type": "code",
      "source": [
        "import idx2numpy"
      ],
      "metadata": {
        "id": "kASoKZxkGUq2"
      },
      "execution_count": 3,
      "outputs": []
    },
    {
      "cell_type": "code",
      "execution_count": 4,
      "metadata": {
        "id": "2AISTCyWGBUW"
      },
      "outputs": [],
      "source": [
        "def load_mnist_data(mnist_data_path):\n",
        "    '''\n",
        "    given a path to the location of the decompressed MNIST data with the default naming conventions,\n",
        "    return a tuple of the following numpy arrays:\n",
        "    (train_img_arr, train_label_arr, test_img_arr, test_label_arr)\n",
        "    '''\n",
        "    train_img_file = f'{mnist_data_path}\\\\train-images.idx3-ubyte'\n",
        "    train_label_file = f'{mnist_data_path}\\\\train-labels.idx1-ubyte'\n",
        "    test_img_file = f'{mnist_data_path}\\\\t10k-images.idx3-ubyte'\n",
        "    test_label_file = f'{mnist_data_path}\\\\t10k-labels.idx1-ubyte'\n",
        "\n",
        "    train_img_arr = idx2numpy.convert_from_file(train_img_file) # shape = (60000, 28, 28)\n",
        "    train_label_arr = idx2numpy.convert_from_file(train_label_file) # shape = (60000,)\n",
        "    test_img_arr = idx2numpy.convert_from_file(test_img_file) # shape = (10000, 28, 28)\n",
        "    test_label_arr = idx2numpy.convert_from_file(test_label_file) # shape = (10000,)\n",
        "\n",
        "    return (train_img_arr, train_label_arr, test_img_arr, test_label_arr)"
      ]
    }
  ]
}