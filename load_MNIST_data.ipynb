{
  "nbformat": 4,
  "nbformat_minor": 0,
  "metadata": {
    "colab": {
      "name": "load_MNIST_data.ipynb",
      "provenance": [],
      "collapsed_sections": [],
      "mount_file_id": "1-e35ys0Vbu8aHMkWFwxH7mJfVpU8fZfA",
      "authorship_tag": "ABX9TyNV+4j/QNSVTRtOAIlws7RR",
      "include_colab_link": true
    },
    "kernelspec": {
      "name": "python3",
      "display_name": "Python 3"
    },
    "language_info": {
      "name": "python"
    }
  },
  "cells": [
    {
      "cell_type": "markdown",
      "metadata": {
        "id": "view-in-github",
        "colab_type": "text"
      },
      "source": [
        "<a href=\"https://colab.research.google.com/github/r-schad/DevSOM-Study-1/blob/main/load_MNIST_data.ipynb\" target=\"_parent\"><img src=\"https://colab.research.google.com/assets/colab-badge.svg\" alt=\"Open In Colab\"/></a>"
      ]
    },
    {
      "cell_type": "code",
      "source": [
        "import numpy as np\n",
        "import matplotlib.pyplot as plt"
      ],
      "metadata": {
        "id": "kASoKZxkGUq2"
      },
      "execution_count": 88,
      "outputs": []
    },
    {
      "cell_type": "code",
      "execution_count": 89,
      "metadata": {
        "id": "2AISTCyWGBUW",
        "colab": {
          "base_uri": "https://localhost:8080/"
        },
        "outputId": "867678da-97f2-42a1-e85b-435103910e66"
      },
      "outputs": [
        {
          "output_type": "stream",
          "name": "stdout",
          "text": [
            "Looking in indexes: https://pypi.org/simple, https://us-python.pkg.dev/colab-wheels/public/simple/\n",
            "Requirement already satisfied: idx2numpy in /usr/local/lib/python3.7/dist-packages (1.2.3)\n",
            "Requirement already satisfied: six in /usr/local/lib/python3.7/dist-packages (from idx2numpy) (1.15.0)\n",
            "Requirement already satisfied: numpy in /usr/local/lib/python3.7/dist-packages (from idx2numpy) (1.21.6)\n"
          ]
        }
      ],
      "source": [
        "!pip install idx2numpy\n",
        "import idx2numpy\n",
        "def load_mnist_data(mnist_data_path):\n",
        "    '''\n",
        "    given a path to the location of the decompressed MNIST data with the default naming conventions,\n",
        "    return a tuple of the following numpy arrays:\n",
        "    (train_img_arr, train_label_arr, test_img_arr, test_label_arr)\n",
        "    '''\n",
        "    train_img_file = f'{mnist_data_path}/train-images.idx3-ubyte'\n",
        "    train_label_file = f'{mnist_data_path}/train-labels.idx1-ubyte'\n",
        "    test_img_file = f'{mnist_data_path}/t10k-images.idx3-ubyte'\n",
        "    test_label_file = f'{mnist_data_path}/t10k-labels.idx1-ubyte'\n",
        "\n",
        "    train_img_arr = idx2numpy.convert_from_file(train_img_file) # shape = (60000, 28, 28)\n",
        "    train_label_arr = idx2numpy.convert_from_file(train_label_file) # shape = (60000,)\n",
        "    test_img_arr = idx2numpy.convert_from_file(test_img_file) # shape = (10000, 28, 28)\n",
        "    test_label_arr = idx2numpy.convert_from_file(test_label_file) # shape = (10000,)\n",
        "\n",
        "    return (train_img_arr, train_label_arr, test_img_arr, test_label_arr)"
      ]
    },
    {
      "cell_type": "code",
      "source": [
        "from scipy import ndimage\n",
        "# https://docs.scipy.org/doc/scipy/reference/generated/scipy.ndimage.uniform_filter.html\n",
        "def blur_images(img_arr, radius):\n",
        "  '''\n",
        "  Takes in a 3-dimensional np array and a blurring radius.\n",
        "  \n",
        "  Returns a 3-dimensional np array with a uniform blurring effect \n",
        "  with the given radius applied to each np array. \n",
        "  '''\n",
        "  blurred_imgs = ndimage.uniform_filter(img_arr, size=(0, radius, radius))\n",
        "\n",
        "  return blurred_imgs"
      ],
      "metadata": {
        "id": "LG0bE7NU4wSK"
      },
      "execution_count": 109,
      "outputs": []
    }
  ]
}